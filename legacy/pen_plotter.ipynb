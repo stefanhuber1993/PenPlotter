{
 "cells": [
  {
   "cell_type": "markdown",
   "id": "ecb12c9f",
   "metadata": {},
   "source": [
    "# 🖊️ Pen Plotter — Clean Quickstart (GRBL, Safe)\n",
    "\n",
    "A modular, beginner-friendly workflow for controlling a GRBL-based pen plotter with Python.\n",
    "\n",
    "- Connect and configure your device\n",
    "- Manually home the arm (move to Arduino for origin)\n",
    "- Calibrate pen contact\n",
    "- Plot a custom SVG\n",
    "- Safely close the connection\n",
    "\n",
    "All logic is organized in `penplot_helper.py`. Follow the steps below!"
   ]
  },
  {
   "cell_type": "markdown",
   "id": "b1274656",
   "metadata": {},
   "source": [
    "## 🏠 Manual Homing\n",
    "\n",
    "Move the pen arm gently towards the Arduino to set the origin (x=0, y=0).\n",
    "This step ensures accurate positioning before plotting."
   ]
  },
  {
   "cell_type": "markdown",
   "id": "48d42b8d",
   "metadata": {},
   "source": [
    "## ⚙️ Initialization\n",
    "\n",
    "Set up your pen plotter and connect to GRBL below.\n",
    "Make sure your device is on the correct port."
   ]
  },
  {
   "cell_type": "code",
   "execution_count": 1,
   "id": "5d698a18",
   "metadata": {},
   "outputs": [],
   "source": [
    "%load_ext autoreload\n",
    "%autoreload 2"
   ]
  },
  {
   "cell_type": "code",
   "execution_count": 2,
   "id": "4fe6f925",
   "metadata": {},
   "outputs": [
    {
     "data": {
      "text/plain": [
       "{'raw': '<Idle|MPos:0.000,0.000,0.000|Bf:15,128|FS:0,0|Ov:100,100,100>',\n",
       " 'state': 'Idle',\n",
       " 'wpos': (0.0, 0.0, 0.0)}"
      ]
     },
     "execution_count": 2,
     "metadata": {},
     "output_type": "execute_result"
    }
   ],
   "source": [
    "from penplot_helper import Config, GRBL\n",
    "import numpy as np\n",
    "import matplotlib.pyplot as plt\n",
    "\n",
    "# Connect\n",
    "cfg = Config(\n",
    "    port=\"/dev/tty.usbserial-A50285BI\",\n",
    "    x_max=300.0, y_max=245.0,\n",
    "    s_down=90, s_up=40,\n",
    ")\n",
    "grbl = GRBL(cfg).connect()\n",
    "\n",
    "# Warm up status and print it\n",
    "grbl.ensure_wpos()\n",
    "grbl.status()\n"
   ]
  },
  {
   "cell_type": "markdown",
   "id": "12bd13ad",
   "metadata": {},
   "source": [
    "## Test rectangle sweep to set paper size"
   ]
  },
  {
   "cell_type": "code",
   "execution_count": 3,
   "id": "e6a07256",
   "metadata": {},
   "outputs": [
    {
     "name": "stdout",
     "output_type": "stream",
     "text": [
      "Goto absolute: (150.000, 122.500)\n",
      "Goto absolute: (0.000, 0.000)\n"
     ]
    }
   ],
   "source": [
    "# Define bed and do a quick perimeter check (pen up)\n",
    "grbl.pen_up(step=0.1)\n",
    "#grbl.set_bed(300.0, 225.0)\n",
    "grbl.sweep_rect(cfg.x_max, cfg.y_max)\n",
    "\n",
    "# Go to center (absolute work coords)\n",
    "grbl.goto_abs(cfg.x_max/2.0, cfg.y_max/2.0)\n",
    "grbl.goto_abs(  0.0,   0.0)\n",
    "\n",
    "grbl.pen_down(step=0.1)"
   ]
  },
  {
   "cell_type": "code",
   "execution_count": 3,
   "id": "acace667",
   "metadata": {},
   "outputs": [
    {
     "data": {
      "text/plain": [
       "{'raw': '<Idle|MPos:0.000,0.000,0.000|Bf:15,128|FS:0,0>',\n",
       " 'state': 'Idle',\n",
       " 'wpos': (0.0, 0.0, 0.0)}"
      ]
     },
     "execution_count": 3,
     "metadata": {},
     "output_type": "execute_result"
    }
   ],
   "source": [
    "grbl.status()"
   ]
  },
  {
   "cell_type": "markdown",
   "id": "e47a02e9",
   "metadata": {},
   "source": [
    "## 📐 Select Project Area\n",
    "\n",
    "Interactively choose the bottom left and top right corners of your project area. The surface compensation will use these bounds for calibration."
   ]
  },
  {
   "cell_type": "code",
   "execution_count": 4,
   "id": "c3dd9488",
   "metadata": {},
   "outputs": [
    {
     "data": {
      "application/vnd.jupyter.widget-view+json": {
       "model_id": "c0b8525be3494e0c847a42a21a2df843",
       "version_major": 2,
       "version_minor": 0
      },
      "text/plain": [
       "VBox(children=(HTML(value='<b>Set Area, Heights, Pots, Plot & Run</b>', layout=Layout(margin='0 0 8px 0')), HB…"
      ]
     },
     "metadata": {},
     "output_type": "display_data"
    }
   ],
   "source": [
    "from penplot_widgets import show_area_and_compensation_widget\n",
    "get_area_and_comp = show_area_and_compensation_widget(grbl)  # Interactively set area and compensation (motor updates on slider change)"
   ]
  },
  {
   "cell_type": "markdown",
   "id": "9760c90b",
   "metadata": {},
   "source": [
    "## Setup conveniences"
   ]
  },
  {
   "cell_type": "code",
   "execution_count": 5,
   "id": "35fb864d",
   "metadata": {},
   "outputs": [
    {
     "data": {
      "text/plain": [
       "{'corners': {'BL': {'x': 0.0, 'y': 0.0, 'h': 0.32},\n",
       "  'BR': {'x': 220.0, 'y': 0.0, 'h': 0.3},\n",
       "  'TL': {'x': 0.0, 'y': 158.6, 'h': 0.38},\n",
       "  'TR': {'x': 220.0, 'y': 158.6, 'h': 0.54}},\n",
       " 'pots': []}"
      ]
     },
     "execution_count": 5,
     "metadata": {},
     "output_type": "execute_result"
    }
   ],
   "source": [
    "import penplot_widgets as ppw\n",
    "key   = (round(cfg.x_max, 3), round(cfg.y_max, 3))\n",
    "saved = getattr(ppw, \"_PPW_STATE\", {}).get(key, None)\n",
    "saved\n"
   ]
  },
  {
   "cell_type": "markdown",
   "id": "52742aa8",
   "metadata": {},
   "source": [
    "### Test Pattern"
   ]
  },
  {
   "cell_type": "code",
   "execution_count": 8,
   "id": "30061e3c",
   "metadata": {},
   "outputs": [],
   "source": [
    "from pattern import Pattern, Renderer, Polyline, Circle, Line\n",
    "import math, random\n",
    "\n",
    "\n",
    "# Minimal pattern: 2 circles + 1 line + 1 polyline\n",
    "p = Pattern()\n",
    "p.add(\n",
    "    Circle((30.0, 30.0), 14.0, pen_pressure=-0.1, start_deg=0,   sweep_deg=360, feed_draw=5000, pen_id=0),\n",
    "    Circle((70.0, 50.0), 18.0, pen_pressure=-0.05, start_deg=180, sweep_deg=180, feed_draw=5000, pen_id=1),  \n",
    "    Line((20.0, 80.0), (100.0, 80.0), pen_pressure=-0.05, feed_draw=10000),\n",
    "    Polyline([(20.0, 20.0), (50.0, 25.0), (80.0, 22.0)], pen_pressure=-0.0, feed_draw=1000),\n",
    ")\n",
    "\n",
    "# Renderer (your params)\n",
    "r = Renderer(grbl,\n",
    "             z_mode=\"centroid\",\n",
    "             z_threshold=0.1,\n",
    "             settle_down_s=0.04,\n",
    "             settle_up_s=0.04,\n",
    "             z_step=0.02,\n",
    "             z_step_delay=0.00,\n",
    "             flush_every=300,\n",
    "             feed_travel=15000,\n",
    "             lift_delta=0.8)\n",
    "\n",
    "r.plot(p)\n",
    "\n",
    "# r.run(p,\n",
    "#       pen_filter = [0,1], \n",
    "#       start_xy=(0.0, 0.0),  # for nn optimization\n",
    "#       optimize='nn',\n",
    "#       combine={'join_tol_mm': 0.1},\n",
    "#       resample={'max_dev_mm': 0.1, 'max_seg_mm': None})\n"
   ]
  },
  {
   "cell_type": "code",
   "execution_count": null,
   "id": "8f9f5f03",
   "metadata": {},
   "outputs": [],
   "source": []
  },
  {
   "cell_type": "markdown",
   "id": "19fdbddc",
   "metadata": {},
   "source": [
    "### Truchet tiles"
   ]
  },
  {
   "cell_type": "code",
   "execution_count": 6,
   "id": "2b519fe1",
   "metadata": {},
   "outputs": [],
   "source": [
    "from pattern import Pattern, Renderer, Polyline, Circle, Line\n",
    "import random, math\n",
    "\n",
    "def offsets(tile, bands, margin, bias_p=2.0):\n",
    "    if bands <= 0: return []\n",
    "    if bands == 1: return [tile*0.5]\n",
    "    c = (bands-1)/2\n",
    "    gaps = [1/((1+abs(i+0.5-c))**bias_p) for i in range(bands-1)]\n",
    "    span = tile-2*margin\n",
    "    s, pos = margin, [margin]\n",
    "    k = span/sum(gaps)\n",
    "    for g in gaps:\n",
    "        s += g*k\n",
    "        pos.append(s)\n",
    "    return [round(max(margin, min(tile-margin, x)), 6) for x in pos]\n",
    "\n",
    "def pen_for_band(i, pen_main, pen_alt, highlight_band=None):\n",
    "    return pen_alt if (highlight_band is not None and i == highlight_band) else pen_main\n",
    "\n",
    "def add_vertical_bundle(p, x0, y0, T, pos, feed, press, pen_main, pen_alt, highlight_band):\n",
    "    for i,x in enumerate(pos):\n",
    "        p.add(Line((x0+x,y0),(x0+x,y0+T), pen_id=pen_for_band(i,pen_main,pen_alt,highlight_band),\n",
    "                   pen_pressure=press, feed_draw=feed))\n",
    "\n",
    "def add_horizontal_bundle_cut_block(p, x0, y0, T, pos_y, bundle_xs, feed, press, pen_main, pen_alt, highlight_band, margin=0.0):\n",
    "    # cut from first to last vertical across the whole bundle (plus optional margin)\n",
    "    if not bundle_xs: \n",
    "        xs = (x0, x0+T)\n",
    "    else:\n",
    "        xs = (x0+min(bundle_xs)-margin, x0+max(bundle_xs)+margin)\n",
    "    for i,y in enumerate(pos_y):\n",
    "        yA = y0+y\n",
    "        leftA, rightA = x0, x0+T\n",
    "        # left segment\n",
    "        if xs[0]-leftA > 1e-3:\n",
    "            p.add(Line((leftA,yA),(xs[0],yA),\n",
    "                       pen_id=pen_for_band(i,pen_main,pen_alt,highlight_band),\n",
    "                       pen_pressure=press, feed_draw=feed))\n",
    "        # right segment\n",
    "        if rightA-xs[1] > 1e-3:\n",
    "            p.add(Line((xs[1],yA),(rightA,yA),\n",
    "                       pen_id=pen_for_band(i,pen_main,pen_alt,highlight_band),\n",
    "                       pen_pressure=press, feed_draw=feed))\n",
    "\n",
    "def add_curves_both_with_priority(p, x0, y0, T, pos, feed, press, pen_hi, pen_lo, highlight_band,\n",
    "                                  hi_family=\"NE_SW\", cut_window=(30.0,60.0)):\n",
    "    # helper to draw quarter arcs, optionally cut by angular window (degrees) relative to the quarter start\n",
    "    def qarc(cx, cy, start_deg, r, pen, cut=None):\n",
    "        if cut is None:\n",
    "            p.add(Circle((cx,cy), r, start_deg=start_deg, sweep_deg=90, pen_id=pen,\n",
    "                         pen_pressure=press, feed_draw=feed))\n",
    "        else:\n",
    "            a0,a1 = start_deg+cut[0], start_deg+cut[1]\n",
    "            if a0-start_deg > 0.1:\n",
    "                p.add(Circle((cx,cy), r, start_deg=start_deg, sweep_deg=a0-start_deg, pen_id=pen,\n",
    "                             pen_pressure=press, feed_draw=feed))\n",
    "            if start_deg+90 - a1 > 0.1:\n",
    "                p.add(Circle((cx,cy), r, start_deg=a1, sweep_deg=start_deg+90-a1, pen_id=pen,\n",
    "                             pen_pressure=press, feed_draw=feed))\n",
    "    # map families to corners and starts\n",
    "    fams = {\n",
    "        \"NE_SW\": [((x0+T,y0+T),180), ((x0,y0),0)],   # NE and SW\n",
    "        \"NW_SE\": [((x0,y0+T),270),   ((x0+T,y0),90)] # NW and SE\n",
    "    }\n",
    "    hi, lo = hi_family, (\"NW_SE\" if hi_family==\"NE_SW\" else \"NE_SW\")\n",
    "    # draw high family full arcs\n",
    "    for i,r in enumerate(pos):\n",
    "        if r <= 0 or r > T: continue\n",
    "        pen_i = pen_for_band(i, pen_hi, pen_lo, highlight_band)\n",
    "        for (cx,cy), s in fams[hi]:\n",
    "            qarc(cx,cy,s,r,pen_i,None)\n",
    "    # draw low family cut by shared window\n",
    "    for i,r in enumerate(pos):\n",
    "        if r <= 0 or r > T: continue\n",
    "        pen_i = pen_for_band(i, pen_lo, pen_hi, highlight_band)\n",
    "        for (cx,cy), s in fams[lo]:\n",
    "            qarc(cx,cy,s,r,pen_i,cut_window)\n",
    "\n",
    "def make_tiles_rect(origin=(0.0,0.0), size_x=180.0, size_y=120.0, tile=16.0,\n",
    "                    bands=5, margin=1.6, bias_p=2.0, seed=12345,\n",
    "                    feed_draw=2400, pen_pressure=-0.05,\n",
    "                    pen_ids=(0,1), highlight_band=None,\n",
    "                    straight_ratio=0.1, cut_margin=0.0,\n",
    "                    curve_priority=\"NE_SW\", curve_cut_window=(30.0,60.0)):\n",
    "    rng = random.Random(seed)\n",
    "    nx, ny = max(int(size_x//tile),1), max(int(size_y//tile),1)\n",
    "    ox, oy = origin\n",
    "    pos = offsets(tile, bands, margin, bias_p)\n",
    "    p = Pattern()\n",
    "    penA, penB = pen_ids\n",
    "    for j in range(ny):\n",
    "        for i in range(nx):\n",
    "            x0, y0 = ox+i*tile, oy+j*tile\n",
    "            if rng.random() < straight_ratio:\n",
    "                # STRAIGHT: vertical bundle (full), horizontals cut as one block spanning first..last vertical\n",
    "                add_vertical_bundle(p, x0, y0, tile, pos, feed_draw, pen_pressure, penA, penB, highlight_band)\n",
    "                add_horizontal_bundle_cut_block(p, x0, y0, tile, pos, pos, feed_draw, pen_pressure,\n",
    "                                                penB, penA, highlight_band, margin=cut_margin)\n",
    "            else:\n",
    "                # CURVES_BOTH: both families present; low family cut by one wide window so crossings are entirely removed\n",
    "                add_curves_both_with_priority(p, x0, y0, tile, pos, feed_draw, pen_pressure,\n",
    "                                              penA, penB, highlight_band, hi_family=curve_priority,\n",
    "                                              cut_window=curve_cut_window)\n",
    "    return p\n",
    "\n",
    "\n",
    "art = make_tiles_rect(\n",
    "    origin=(50.0,50.0), size_x=100.0, size_y=100.0, tile=12.5,\n",
    "    bands=3, margin=1.5, bias_p=2.2, seed=20250923,\n",
    "    feed_draw=2000, pen_pressure=-0.06,\n",
    "    pen_ids=(1,2),            # two colors\n",
    "    highlight_band=2,         # 0-based: band index 2 (the 3rd line) always uses pen 2\n",
    "    straight_ratio=0.4,       # mix straight vs curves\n",
    "    cut_margin=0.4,           # extend the removed block slightly beyond first/last crossing\n",
    "    curve_priority=\"NE_SW\",\n",
    "    curve_cut_window=(28.0,62.0)  # wide removal across the entire crossing region\n",
    ")\n",
    "\n",
    "r = Renderer(grbl, z_mode=\"centroid\", z_threshold=0.1,\n",
    "             settle_down_s=0.04, settle_up_s=0.04,\n",
    "             z_step=0.02, z_step_delay=0.00,\n",
    "             flush_every=400, feed_travel=5000, lift_delta=0.4)\n",
    "r.plot(art)\n"
   ]
  },
  {
   "cell_type": "code",
   "execution_count": null,
   "id": "5b3f0f98",
   "metadata": {},
   "outputs": [],
   "source": [
    "# r.run(art,\n",
    "#       pen_filter = [1], \n",
    "#       start_xy=(0.0, 0.0),  # for nn optimization\n",
    "#       optimize='nn',\n",
    "#       combine={'join_tol_mm': 0.1},\n",
    "#       resample={'max_dev_mm': 0.1, 'max_seg_mm': None})"
   ]
  },
  {
   "cell_type": "markdown",
   "id": "61aeb31b",
   "metadata": {},
   "source": [
    "### Plantes horizontal lines"
   ]
  },
  {
   "cell_type": "code",
   "execution_count": 9,
   "id": "cba631cc",
   "metadata": {},
   "outputs": [],
   "source": [
    "# --- Gravity-flow “scanlines”: 120 horizontal rays entering from the left, deflected by hard-coded planets ---\n",
    "# Updated for the new API: z/settling behavior lives on the Renderer (not per-line).\n",
    "# Prereqs: cfg, grbl, Pattern/Polyline/Renderer, and a saved rectangle via the widget.\n",
    "\n",
    "import math, numpy as np, penplot_widgets as ppw\n",
    "from pattern import Pattern, Polyline, Renderer\n",
    "\n",
    "# 1) Load calibrated rectangle (+ program Z surface map)\n",
    "key   = (round(cfg.x_max, 3), round(cfg.y_max, 3))\n",
    "state = (getattr(ppw, \"_PPW_STATE\", {}) or {}).get(key) or {}\n",
    "BL = state.get(\"corners\", {}).get(\"BL\"); TR = state.get(\"corners\", {}).get(\"TR\")\n",
    "assert BL and TR, \"Calibration rectangle not found. Open the widget and Save Settings.\"\n",
    "x0, y0, x1, y1 = float(BL[\"x\"]), float(BL[\"y\"]), float(TR[\"x\"]), float(TR[\"y\"])\n",
    "\n",
    "# 2) Parameters\n",
    "W, H = (x1 - x0), (y1 - y0)\n",
    "circle_samples     = 120\n",
    "\n",
    "n_rays             = 160         # number of horizontal rays\n",
    "launch_inset_mm    = 0.0         # inset from left edge\n",
    "y_inset_mm         = 0.0         # inset from top/bottom for seeding\n",
    "start_jitter_mm    = 0.0         # optional vertical jitter (0 = evenly spaced)\n",
    "\n",
    "# Integration (smooth arclength + ramped speed)\n",
    "step_mm     = 0.45\n",
    "substeps    = 4\n",
    "v0_mm       = 0.1\n",
    "cruise_mm   = 0.1\n",
    "ramp_steps  = 50\n",
    "max_steps   = 1200\n",
    "\n",
    "soft_mm     = 0.0#2.0\n",
    "G_eff       = 0.002\n",
    "accel_clip  = 100000\n",
    "hit_margin_mm = 0.0\n",
    "\n",
    "# Motion / pen (per-path feed stays on the polyline; Z strategy lives on Renderer)\n",
    "feed_draw   = 1500\n",
    "\n",
    "# 3) Hard-coded planets (fx, fy, fr) w.r.t. the calibrated rectangle\n",
    "#    fx, fy in [0..1], fr is radius as a fraction of min(W,H).\n",
    "#    All planets are placed on the RIGHT HALF (fx >= 0.55). Edit this list as you like.\n",
    "PLANETS_FRAC = [\n",
    "    (0.58, 0.02, 0.035),\n",
    "    (0.40, 0.35, 0.020),\n",
    "    (0.69, 0.24, 0.012),\n",
    "    (0.73, 0.12, 0.028),\n",
    "    (0.77, 0.30, 0.045),\n",
    "    (0.82, 0.18, 0.018),\n",
    "    (0.86, 0.42, 0.024),\n",
    "    (0.90, 0.25, 0.010),\n",
    "    (0.93, 0.12, 0.016),\n",
    "    (0.42, 0.60, 0.030),\n",
    "    (0.66, 0.76, 0.020),\n",
    "    (0.74, 0.68, 0.014),\n",
    "    (0.80, 0.95, 0.038),\n",
    "    (0.88, 0.70, 0.022),\n",
    "    (0.94, 0.95, 0.012),\n",
    "]\n",
    "\n",
    "# 4) Convert planets to absolute coords (cx, cy, r, mass)\n",
    "R0 = min(W, H)\n",
    "planets = []\n",
    "for fx, fy, fr in PLANETS_FRAC:\n",
    "    cx = x0 + fx * W\n",
    "    cy = y0 + fy * H\n",
    "    r  = fr * R0\n",
    "    m  = r * r\n",
    "    planets.append((cx, cy, r, m))\n",
    "\n",
    "# 5) Utilities\n",
    "def circle_poly(cx, cy, r, n=circle_samples):\n",
    "    return [(cx + r*math.cos(2*math.pi*i/n), cy + r*math.sin(2*math.pi*i/n)) for i in range(n+1)]\n",
    "\n",
    "def gravity_accel(x, y):\n",
    "    ax = ay = 0.0\n",
    "    for (cx, cy, r, m) in planets:\n",
    "        dx, dy = (cx - x), (cy - y)\n",
    "        d2 = dx*dx + dy*dy + soft_mm*soft_mm\n",
    "        inv_d = 1.0 / math.sqrt(d2)\n",
    "        inv_d3 = inv_d * inv_d * inv_d\n",
    "        a = G_eff * m * inv_d3\n",
    "        ax += a * dx\n",
    "        ay += a * dy\n",
    "    mag = math.hypot(ax, ay)\n",
    "    if mag > accel_clip:\n",
    "        ax *= accel_clip / mag\n",
    "        ay *= accel_clip / mag\n",
    "    return ax, ay\n",
    "\n",
    "def inside_rect(x, y): return (x0 <= x <= x1) and (y0 <= y <= y1)\n",
    "def hits_planet(x, y):\n",
    "    for (cx, cy, r, _) in planets:\n",
    "        if math.hypot(x - cx, y - cy) <= (r + hit_margin_mm):\n",
    "            return True\n",
    "    return False\n",
    "\n",
    "# 6) Build pattern (planet outlines + rays)\n",
    "pat = Pattern()\n",
    "\n",
    "# Planet outlines (optional; comment out if you don't want circles drawn)\n",
    "for (cx, cy, r, _) in planets:\n",
    "    pat.add(Polyline(pts=circle_poly(cx, cy, r), pen_id=0, feed_draw=1000))\n",
    "\n",
    "# Launch horizontal rays from left edge\n",
    "x_start = x0 + launch_inset_mm\n",
    "ys = np.linspace(y0 + y_inset_mm, y1 - y_inset_mm, n_rays)\n",
    "if start_jitter_mm > 0:\n",
    "    ys = np.array([float(y + np.random.uniform(-start_jitter_mm, start_jitter_mm)) for y in ys])\n",
    "\n",
    "for y_start in ys:\n",
    "    if hits_planet(x_start, y_start):\n",
    "        continue\n",
    "\n",
    "    x, y = x_start, y_start\n",
    "    vx, vy = v0_mm, 0.0\n",
    "    ax, ay = gravity_accel(x, y)\n",
    "    pts = [(x, y)]\n",
    "\n",
    "    for step in range(max_steps):\n",
    "        v_target = v0_mm + (cruise_mm - v0_mm) * min(1.0, step / float(ramp_steps))\n",
    "        ds  = step_mm\n",
    "        dsm = ds / float(substeps)\n",
    "        broke = False\n",
    "\n",
    "        for _ in range(substeps):\n",
    "            dt = dsm / max(1e-9, v_target)\n",
    "\n",
    "            # half-kick\n",
    "            vx += 0.5 * ax * dt\n",
    "            vy += 0.5 * ay * dt\n",
    "            # enforce target speed\n",
    "            vm = math.hypot(vx, vy) or 1.0\n",
    "            vx *= (v_target / vm)\n",
    "            vy *= (v_target / vm)\n",
    "            # drift\n",
    "            x += vx * dt\n",
    "            y += vy * dt\n",
    "\n",
    "            if (not inside_rect(x, y)) or hits_planet(x, y):\n",
    "                broke = True\n",
    "                break\n",
    "\n",
    "            # update accel + half-kick\n",
    "            ax, ay = gravity_accel(x, y)\n",
    "            vx += 0.5 * ax * dt\n",
    "            vy += 0.5 * ay * dt\n",
    "\n",
    "        if broke:\n",
    "            break\n",
    "        pts.append((x, y))\n",
    "\n",
    "    if len(pts) >= 2:\n",
    "        pat.add(Polyline(pts=pts, pen_id=0, feed_draw=feed_draw))\n",
    "\n",
    "# 7) Render (all z/settle behavior lives on the Renderer)\n",
    "r = Renderer(\n",
    "    grbl,\n",
    "    z_mode=\"start\",\n",
    "    z_threshold=0.0,\n",
    "    settle_down_s=0.15,\n",
    "    settle_up_s=0.15,\n",
    "    z_step=0.02,\n",
    "    z_step_delay=0.00,\n",
    "    flush_every=400,\n",
    "    feed_travel=3000,\n",
    "    lift_delta=0.5,\n",
    ")\n",
    "r.plot(pat)\n"
   ]
  },
  {
   "cell_type": "code",
   "execution_count": 10,
   "id": "21580259",
   "metadata": {},
   "outputs": [
    {
     "name": "stdout",
     "output_type": "stream",
     "text": [
      "Resample: 175 polylines, points 61622 -> 2948 (x0.05), max_dev=0.1, max_seg=None.\n"
     ]
    },
    {
     "ename": "TimeoutError",
     "evalue": "GRBL did not become IDLE in time.",
     "output_type": "error",
     "traceback": [
      "\u001b[31m---------------------------------------------------------------------------\u001b[39m",
      "\u001b[31mTimeoutError\u001b[39m                              Traceback (most recent call last)",
      "\u001b[36mCell\u001b[39m\u001b[36m \u001b[39m\u001b[32mIn[10]\u001b[39m\u001b[32m, line 1\u001b[39m\n\u001b[32m----> \u001b[39m\u001b[32m1\u001b[39m \u001b[43mr\u001b[49m\u001b[43m.\u001b[49m\u001b[43mrun\u001b[49m\u001b[43m(\u001b[49m\u001b[43mpat\u001b[49m\u001b[43m,\u001b[49m\n\u001b[32m      2\u001b[39m \u001b[43m      \u001b[49m\u001b[43mpen_filter\u001b[49m\u001b[43m \u001b[49m\u001b[43m=\u001b[49m\u001b[43m \u001b[49m\u001b[43m[\u001b[49m\u001b[32;43m0\u001b[39;49m\u001b[43m]\u001b[49m\u001b[43m,\u001b[49m\u001b[43m \u001b[49m\n\u001b[32m      3\u001b[39m \u001b[43m      \u001b[49m\u001b[43mstart_xy\u001b[49m\u001b[43m=\u001b[49m\u001b[43m(\u001b[49m\u001b[32;43m0.0\u001b[39;49m\u001b[43m,\u001b[49m\u001b[43m \u001b[49m\u001b[32;43m0.0\u001b[39;49m\u001b[43m)\u001b[49m\u001b[43m,\u001b[49m\u001b[43m  \u001b[49m\u001b[38;5;66;43;03m# for nn optimization\u001b[39;49;00m\n\u001b[32m      4\u001b[39m \u001b[43m      \u001b[49m\u001b[38;5;66;43;03m#optimize='nn',\u001b[39;49;00m\n\u001b[32m      5\u001b[39m \u001b[43m      \u001b[49m\u001b[38;5;66;43;03m#combine={'join_tol_mm': 0.1},\u001b[39;49;00m\n\u001b[32m      6\u001b[39m \u001b[43m      \u001b[49m\u001b[43mresample\u001b[49m\u001b[43m=\u001b[49m\u001b[43m{\u001b[49m\u001b[33;43m'\u001b[39;49m\u001b[33;43mmax_dev_mm\u001b[39;49m\u001b[33;43m'\u001b[39;49m\u001b[43m:\u001b[49m\u001b[43m \u001b[49m\u001b[32;43m0.1\u001b[39;49m\u001b[43m,\u001b[49m\u001b[43m \u001b[49m\u001b[33;43m'\u001b[39;49m\u001b[33;43mmax_seg_mm\u001b[39;49m\u001b[33;43m'\u001b[39;49m\u001b[43m:\u001b[49m\u001b[43m \u001b[49m\u001b[38;5;28;43;01mNone\u001b[39;49;00m\u001b[43m}\u001b[49m\u001b[43m)\u001b[49m\n",
      "\u001b[36mFile \u001b[39m\u001b[32m~/Development/PenPlotter/pattern.py:455\u001b[39m, in \u001b[36mRenderer.run\u001b[39m\u001b[34m(self, pattern, start_xy, optimize, resample, combine, return_home, pen_filter, preview_in_widget)\u001b[39m\n\u001b[32m    453\u001b[39m     time.sleep(\u001b[38;5;28mself\u001b[39m.settle_up_s)\n\u001b[32m    454\u001b[39m feed = \u001b[38;5;28mself\u001b[39m.feed_travel \u001b[38;5;28;01mif\u001b[39;00m \u001b[38;5;28mself\u001b[39m.feed_travel \u001b[38;5;129;01mis\u001b[39;00m \u001b[38;5;129;01mnot\u001b[39;00m \u001b[38;5;28;01mNone\u001b[39;00m \u001b[38;5;28;01melse\u001b[39;00m \u001b[38;5;28mgetattr\u001b[39m(\u001b[38;5;28mself\u001b[39m.g.cfg, \u001b[33m\"\u001b[39m\u001b[33mfeed_travel\u001b[39m\u001b[33m\"\u001b[39m, \u001b[38;5;28;01mNone\u001b[39;00m)\n\u001b[32m--> \u001b[39m\u001b[32m455\u001b[39m \u001b[38;5;28;43mself\u001b[39;49m\u001b[43m.\u001b[49m\u001b[43mg\u001b[49m\u001b[43m.\u001b[49m\u001b[43mmove_xy\u001b[49m\u001b[43m(\u001b[49m\u001b[32;43m0.0\u001b[39;49m\u001b[43m,\u001b[49m\u001b[43m \u001b[49m\u001b[32;43m0.0\u001b[39;49m\u001b[43m,\u001b[49m\u001b[43m \u001b[49m\u001b[43mfeed\u001b[49m\u001b[43m=\u001b[49m\u001b[43mfeed\u001b[49m\u001b[43m,\u001b[49m\u001b[43m \u001b[49m\u001b[43mwait\u001b[49m\u001b[43m=\u001b[49m\u001b[38;5;28;43;01mTrue\u001b[39;49;00m\u001b[43m)\u001b[49m\n\u001b[32m    456\u001b[39m \u001b[38;5;28mself\u001b[39m._cur_xy = (\u001b[32m0.0\u001b[39m, \u001b[32m0.0\u001b[39m)\n",
      "\u001b[36mFile \u001b[39m\u001b[32m~/Development/PenPlotter/penplot_helper.py:226\u001b[39m, in \u001b[36mGRBL.move_xy\u001b[39m\u001b[34m(self, x, y, feed, wait)\u001b[39m\n\u001b[32m    224\u001b[39m out = \u001b[38;5;28mself\u001b[39m.cmd(\u001b[33m'\u001b[39m\u001b[33m \u001b[39m\u001b[33m'\u001b[39m.join(parts))\n\u001b[32m    225\u001b[39m \u001b[38;5;28;01mif\u001b[39;00m wait:\n\u001b[32m--> \u001b[39m\u001b[32m226\u001b[39m     \u001b[38;5;28;43mself\u001b[39;49m\u001b[43m.\u001b[49m\u001b[43mwait_idle\u001b[49m\u001b[43m(\u001b[49m\u001b[43m)\u001b[49m\n\u001b[32m    227\u001b[39m \u001b[38;5;28;01mreturn\u001b[39;00m out\n",
      "\u001b[36mFile \u001b[39m\u001b[32m~/Development/PenPlotter/penplot_helper.py:211\u001b[39m, in \u001b[36mGRBL.wait_idle\u001b[39m\u001b[34m(self, timeout, poll)\u001b[39m\n\u001b[32m    209\u001b[39m         \u001b[38;5;28;01mreturn\u001b[39;00m\n\u001b[32m    210\u001b[39m     time.sleep(poll)\n\u001b[32m--> \u001b[39m\u001b[32m211\u001b[39m \u001b[38;5;28;01mraise\u001b[39;00m \u001b[38;5;167;01mTimeoutError\u001b[39;00m(\u001b[33m\"\u001b[39m\u001b[33mGRBL did not become IDLE in time.\u001b[39m\u001b[33m\"\u001b[39m)\n",
      "\u001b[31mTimeoutError\u001b[39m: GRBL did not become IDLE in time."
     ]
    }
   ],
   "source": [
    "r.run(pat,\n",
    "      pen_filter = [0], \n",
    "      start_xy=(0.0, 0.0),  # for nn optimization\n",
    "      #optimize='nn',\n",
    "      #combine={'join_tol_mm': 0.1},\n",
    "      resample={'max_dev_mm': 0.1, 'max_seg_mm': None})"
   ]
  },
  {
   "cell_type": "markdown",
   "id": "5a9ffe11",
   "metadata": {},
   "source": [
    "## Run experiments"
   ]
  },
  {
   "cell_type": "markdown",
   "id": "f8aacdb8",
   "metadata": {},
   "source": [
    "## 🧹 Cleanup\n",
    "\n",
    "Return the pen to origin and close the serial connection when finished."
   ]
  },
  {
   "cell_type": "code",
   "execution_count": null,
   "id": "3275de40",
   "metadata": {},
   "outputs": [],
   "source": [
    "grbl.goto_abs(0,0)\n",
    "grbl.pen_down(step=0.01)\n",
    "grbl.close()\n",
    "print('Serial closed.')"
   ]
  }
 ],
 "metadata": {
  "kernelspec": {
   "display_name": "reticular-sae",
   "language": "python",
   "name": "python3"
  },
  "language_info": {
   "codemirror_mode": {
    "name": "ipython",
    "version": 3
   },
   "file_extension": ".py",
   "mimetype": "text/x-python",
   "name": "python",
   "nbconvert_exporter": "python",
   "pygments_lexer": "ipython3",
   "version": "3.13.5"
  }
 },
 "nbformat": 4,
 "nbformat_minor": 5
}
